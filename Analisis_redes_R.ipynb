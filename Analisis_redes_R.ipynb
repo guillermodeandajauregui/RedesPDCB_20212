{
 "cells": [
  {
   "cell_type": "markdown",
   "metadata": {},
   "source": [
    "# Análisis de redes con igraph - R"
   ]
  },
  {
   "cell_type": "markdown",
   "metadata": {},
   "source": [
    "## Cargar paquetes"
   ]
  },
  {
   "cell_type": "code",
   "execution_count": 4,
   "metadata": {},
   "outputs": [],
   "source": [
    "library(igraph)"
   ]
  },
  {
   "cell_type": "markdown",
   "metadata": {},
   "source": [
    "## Leer redes"
   ]
  },
  {
   "cell_type": "markdown",
   "metadata": {},
   "source": [
    "### graphml"
   ]
  },
  {
   "cell_type": "code",
   "execution_count": 5,
   "metadata": {},
   "outputs": [],
   "source": [
    "g <- igraph::read_graph(file = \"data/ZacharyKarateNetwork.graphml\", format = \"graphml\")"
   ]
  },
  {
   "cell_type": "code",
   "execution_count": 6,
   "metadata": {},
   "outputs": [
    {
     "data": {
      "text/plain": [
       "IGRAPH a5b439a U--- 34 78 -- Zachary\n",
       "+ attr: name (g/c), id (v/c)\n",
       "+ edges from a5b439a:\n",
       " [1]  1-- 2  1-- 3  1-- 4  1-- 5  1-- 6  1-- 7  1-- 8  1-- 9  1--11  1--12\n",
       "[11]  1--13  1--14  1--18  1--20  1--22  1--32  2-- 3  2-- 4  2-- 8  2--14\n",
       "[21]  2--18  2--20  2--22  2--31  3-- 4  3-- 8  3--28  3--29  3--33  3--10\n",
       "[31]  3-- 9  3--14  4-- 8  4--13  4--14  5-- 7  5--11  6-- 7  6--11  6--17\n",
       "[41]  7--17  9--31  9--33  9--34 10--34 14--34 15--33 15--34 16--33 16--34\n",
       "[51] 19--33 19--34 20--34 21--33 21--34 23--33 23--34 24--26 24--28 24--33\n",
       "[61] 24--34 24--30 25--26 25--28 25--32 26--32 27--30 27--34 28--34 29--32\n",
       "[71] 29--34 30--33 30--34 31--33 31--34 32--33 32--34 33--34"
      ]
     },
     "metadata": {},
     "output_type": "display_data"
    }
   ],
   "source": [
    "g"
   ]
  },
  {
   "cell_type": "markdown",
   "metadata": {},
   "source": [
    "### edge list"
   ]
  },
  {
   "cell_type": "code",
   "execution_count": 9,
   "metadata": {},
   "outputs": [],
   "source": [
    "g2 <- igraph::read_graph(file = \"data/ZacharyKarateNetwork_edgelist.txt\", \n",
    "                         format = \"edgelist\", \n",
    "                         directed = F)"
   ]
  },
  {
   "cell_type": "code",
   "execution_count": 10,
   "metadata": {},
   "outputs": [
    {
     "data": {
      "text/plain": [
       "IGRAPH 9892b46 U--- 34 78 -- \n",
       "+ edges from 9892b46:\n",
       " [1]  1-- 2  1-- 3  1-- 4  1-- 5  1-- 6  1-- 7  1-- 8  1-- 9  1--11  1--12\n",
       "[11]  1--13  1--14  1--18  1--20  1--22  1--32  2-- 3  2-- 4  2-- 8  2--14\n",
       "[21]  2--18  2--20  2--22  2--31  3-- 4  3-- 8  3-- 9  3--10  3--14  3--28\n",
       "[31]  3--29  3--33  4-- 8  4--13  4--14  5-- 7  5--11  6-- 7  6--11  6--17\n",
       "[41]  7--17  9--31  9--33  9--34 10--34 14--34 15--33 15--34 16--33 16--34\n",
       "[51] 19--33 19--34 20--34 21--33 21--34 23--33 23--34 24--26 24--28 24--30\n",
       "[61] 24--33 24--34 25--26 25--28 25--32 26--32 27--30 27--34 28--34 29--32\n",
       "[71] 29--34 30--33 30--34 31--33 31--34 32--33 32--34 33--34"
      ]
     },
     "metadata": {},
     "output_type": "display_data"
    }
   ],
   "source": [
    "g2"
   ]
  },
  {
   "cell_type": "markdown",
   "metadata": {},
   "source": [
    "### ¿Es el mismo grafo? "
   ]
  },
  {
   "cell_type": "code",
   "execution_count": 12,
   "metadata": {},
   "outputs": [
    {
     "data": {
      "text/html": [
       "TRUE"
      ],
      "text/latex": [
       "TRUE"
      ],
      "text/markdown": [
       "TRUE"
      ],
      "text/plain": [
       "[1] TRUE"
      ]
     },
     "metadata": {},
     "output_type": "display_data"
    }
   ],
   "source": [
    "igraph::is_isomorphic_to(graph1 = g, graph2 = g2)"
   ]
  },
  {
   "cell_type": "markdown",
   "metadata": {},
   "source": [
    "### los objetos no son idénticos porque g tiene diferentes atributos de nodo"
   ]
  },
  {
   "cell_type": "code",
   "execution_count": 17,
   "metadata": {},
   "outputs": [
    {
     "data": {
      "text/html": [
       "FALSE"
      ],
      "text/latex": [
       "FALSE"
      ],
      "text/markdown": [
       "FALSE"
      ],
      "text/plain": [
       "[1] FALSE"
      ]
     },
     "metadata": {},
     "output_type": "display_data"
    }
   ],
   "source": [
    "igraph::identical_graphs(g, g2)\n"
   ]
  },
  {
   "cell_type": "markdown",
   "metadata": {},
   "source": [
    "### Vamos a probar otra estrategia, leyendo el edge list"
   ]
  },
  {
   "cell_type": "code",
   "execution_count": 16,
   "metadata": {},
   "outputs": [
    {
     "name": "stdout",
     "output_type": "stream",
     "text": [
      "  V1 V2\n",
      "1  0  1\n",
      "2  0  2\n",
      "3  0  3\n",
      "4  0  4\n",
      "5  0  5\n",
      "6  0  6\n"
     ]
    }
   ],
   "source": [
    "df <- read.table(file = \"data/ZacharyKarateNetwork_edgelist.txt\")\n",
    "print(head(df))"
   ]
  },
  {
   "cell_type": "code",
   "execution_count": 15,
   "metadata": {},
   "outputs": [
    {
     "data": {
      "text/plain": [
       "IGRAPH e221d66 UN-- 34 78 -- \n",
       "+ attr: name (v/c)\n",
       "+ edges from e221d66 (vertex names):\n",
       " [1] 0 --1  0 --2  0 --3  0 --4  0 --5  0 --6  0 --7  0 --8  0 --10 0 --11\n",
       "[11] 0 --12 0 --13 0 --17 0 --19 0 --21 0 --31 1 --2  1 --3  1 --7  1 --13\n",
       "[21] 1 --17 1 --19 1 --21 1 --30 2 --3  2 --7  2 --8  2 --9  2 --13 2 --27\n",
       "[31] 2 --28 2 --32 3 --7  3 --12 3 --13 4 --6  4 --10 5 --6  5 --10 5 --16\n",
       "[41] 6 --16 8 --30 8 --32 8 --33 9 --33 13--33 14--32 14--33 15--32 15--33\n",
       "[51] 18--32 18--33 19--33 20--32 20--33 22--32 22--33 23--25 23--27 23--29\n",
       "[61] 23--32 23--33 24--25 24--27 24--31 25--31 26--29 26--33 27--33 28--31\n",
       "[71] 28--33 29--32 29--33 30--32 30--33 31--32 31--33 32--33"
      ]
     },
     "metadata": {},
     "output_type": "display_data"
    }
   ],
   "source": [
    "g3 <- graph_from_data_frame(d = df, directed = F)\n",
    "g3"
   ]
  },
  {
   "cell_type": "markdown",
   "metadata": {},
   "source": [
    "### A lo mejor queremos trabajar con las matrices de adyacencia o peso..."
   ]
  },
  {
   "cell_type": "code",
   "execution_count": 20,
   "metadata": {},
   "outputs": [
    {
     "data": {
      "text/html": [
       "<table class=\"dataframe\">\n",
       "<caption>A matrix: 5 × 5 of type dbl</caption>\n",
       "<tbody>\n",
       "\t<tr><td>0</td><td>1</td><td>1</td><td>1</td><td>1</td></tr>\n",
       "\t<tr><td>1</td><td>0</td><td>1</td><td>1</td><td>0</td></tr>\n",
       "\t<tr><td>1</td><td>1</td><td>0</td><td>1</td><td>0</td></tr>\n",
       "\t<tr><td>1</td><td>1</td><td>1</td><td>0</td><td>0</td></tr>\n",
       "\t<tr><td>1</td><td>0</td><td>0</td><td>0</td><td>0</td></tr>\n",
       "</tbody>\n",
       "</table>\n"
      ],
      "text/latex": [
       "A matrix: 5 × 5 of type dbl\n",
       "\\begin{tabular}{lllll}\n",
       "\t 0 & 1 & 1 & 1 & 1\\\\\n",
       "\t 1 & 0 & 1 & 1 & 0\\\\\n",
       "\t 1 & 1 & 0 & 1 & 0\\\\\n",
       "\t 1 & 1 & 1 & 0 & 0\\\\\n",
       "\t 1 & 0 & 0 & 0 & 0\\\\\n",
       "\\end{tabular}\n"
      ],
      "text/markdown": [
       "\n",
       "A matrix: 5 × 5 of type dbl\n",
       "\n",
       "| 0 | 1 | 1 | 1 | 1 |\n",
       "| 1 | 0 | 1 | 1 | 0 |\n",
       "| 1 | 1 | 0 | 1 | 0 |\n",
       "| 1 | 1 | 1 | 0 | 0 |\n",
       "| 1 | 0 | 0 | 0 | 0 |\n",
       "\n"
      ],
      "text/plain": [
       "     [,1] [,2] [,3] [,4] [,5]\n",
       "[1,] 0    1    1    1    1   \n",
       "[2,] 1    0    1    1    0   \n",
       "[3,] 1    1    0    1    0   \n",
       "[4,] 1    1    1    0    0   \n",
       "[5,] 1    0    0    0    0   "
      ]
     },
     "metadata": {},
     "output_type": "display_data"
    }
   ],
   "source": [
    "mat <- get.adjacency(graph = g, sparse = F)\n",
    "mat[1:5, 1:5]"
   ]
  },
  {
   "cell_type": "code",
   "execution_count": 25,
   "metadata": {},
   "outputs": [
    {
     "data": {
      "text/plain": [
       "IGRAPH b6b65ca U--- 34 78 -- \n",
       "+ edges from b6b65ca:\n",
       " [1]  1-- 2  1-- 3  1-- 4  1-- 5  1-- 6  1-- 7  1-- 8  1-- 9  1--11  1--12\n",
       "[11]  1--13  1--14  1--18  1--20  1--22  1--32  2-- 3  2-- 4  2-- 8  2--14\n",
       "[21]  2--18  2--20  2--22  2--31  3-- 4  3-- 8  3-- 9  3--10  3--14  3--28\n",
       "[31]  3--29  3--33  4-- 8  4--13  4--14  5-- 7  5--11  6-- 7  6--11  6--17\n",
       "[41]  7--17  9--31  9--33  9--34 10--34 14--34 15--33 15--34 16--33 16--34\n",
       "[51] 19--33 19--34 20--34 21--33 21--34 23--33 23--34 24--26 24--28 24--30\n",
       "[61] 24--33 24--34 25--26 25--28 25--32 26--32 27--30 27--34 28--34 29--32\n",
       "[71] 29--34 30--33 30--34 31--33 31--34 32--33 32--34 33--34"
      ]
     },
     "metadata": {},
     "output_type": "display_data"
    }
   ],
   "source": [
    "g4 <- graph_from_adjacency_matrix(adjmatrix = mat, \n",
    "                                  mode = \"undirected\")\n",
    "g4"
   ]
  },
  {
   "cell_type": "markdown",
   "metadata": {},
   "source": [
    "## Escribir redes"
   ]
  },
  {
   "cell_type": "code",
   "execution_count": 26,
   "metadata": {},
   "outputs": [],
   "source": [
    "write.graph(graph = g, file = \"ejemplo_escribir.graphml\", format = \"graphml\")"
   ]
  },
  {
   "cell_type": "markdown",
   "metadata": {},
   "source": [
    "# Analizar redes "
   ]
  },
  {
   "cell_type": "markdown",
   "metadata": {},
   "source": [
    "## Una viz nada más para tener una idea"
   ]
  },
  {
   "cell_type": "code",
   "execution_count": 34,
   "metadata": {},
   "outputs": [
    {
     "data": {
      "image/png": "[encoded data removed]",
      "text/plain": [
       "Plot with title “”"
      ]
     },
     "metadata": {
      "image/png": {
       "height": 420,
       "width": 420
      }
     },
     "output_type": "display_data"
    }
   ],
   "source": [
    "set.seed(725)\n",
    "plot(g)"
   ]
  },
  {
   "cell_type": "markdown",
   "metadata": {},
   "source": [
    "### Medidas de caminos "
   ]
  },
  {
   "cell_type": "code",
   "execution_count": 35,
   "metadata": {},
   "outputs": [
    {
     "data": {
      "text/html": [
       "<table class=\"dataframe\">\n",
       "<caption>A matrix: 5 × 5 of type dbl</caption>\n",
       "<tbody>\n",
       "\t<tr><td>0</td><td>1</td><td>1</td><td>1</td><td>1</td></tr>\n",
       "\t<tr><td>1</td><td>0</td><td>1</td><td>1</td><td>2</td></tr>\n",
       "\t<tr><td>1</td><td>1</td><td>0</td><td>1</td><td>2</td></tr>\n",
       "\t<tr><td>1</td><td>1</td><td>1</td><td>0</td><td>2</td></tr>\n",
       "\t<tr><td>1</td><td>2</td><td>2</td><td>2</td><td>0</td></tr>\n",
       "</tbody>\n",
       "</table>\n"
      ],
      "text/latex": [
       "A matrix: 5 × 5 of type dbl\n",
       "\\begin{tabular}{lllll}\n",
       "\t 0 & 1 & 1 & 1 & 1\\\\\n",
       "\t 1 & 0 & 1 & 1 & 2\\\\\n",
       "\t 1 & 1 & 0 & 1 & 2\\\\\n",
       "\t 1 & 1 & 1 & 0 & 2\\\\\n",
       "\t 1 & 2 & 2 & 2 & 0\\\\\n",
       "\\end{tabular}\n"
      ],
      "text/markdown": [
       "\n",
       "A matrix: 5 × 5 of type dbl\n",
       "\n",
       "| 0 | 1 | 1 | 1 | 1 |\n",
       "| 1 | 0 | 1 | 1 | 2 |\n",
       "| 1 | 1 | 0 | 1 | 2 |\n",
       "| 1 | 1 | 1 | 0 | 2 |\n",
       "| 1 | 2 | 2 | 2 | 0 |\n",
       "\n"
      ],
      "text/plain": [
       "     [,1] [,2] [,3] [,4] [,5]\n",
       "[1,] 0    1    1    1    1   \n",
       "[2,] 1    0    1    1    2   \n",
       "[3,] 1    1    0    1    2   \n",
       "[4,] 1    1    1    0    2   \n",
       "[5,] 1    2    2    2    0   "
      ]
     },
     "metadata": {},
     "output_type": "display_data"
    }
   ],
   "source": [
    "matriz_de_caminos <- shortest.paths(g)\n",
    "matriz_de_caminos[1:5, 1:5]"
   ]
  },
  {
   "cell_type": "code",
   "execution_count": 38,
   "metadata": {},
   "outputs": [
    {
     "data": {
      "text/html": [
       "2.40819964349376"
      ],
      "text/latex": [
       "2.40819964349376"
      ],
      "text/markdown": [
       "2.40819964349376"
      ],
      "text/plain": [
       "[1] 2.4082"
      ]
     },
     "metadata": {},
     "output_type": "display_data"
    }
   ],
   "source": [
    "avg_shortest_path <- average.path.length(g)\n",
    "avg_shortest_path\n"
   ]
  },
  {
   "cell_type": "code",
   "execution_count": 39,
   "metadata": {},
   "outputs": [
    {
     "data": {
      "text/html": [
       "5"
      ],
      "text/latex": [
       "5"
      ],
      "text/markdown": [
       "5"
      ],
      "text/plain": [
       "[1] 5"
      ]
     },
     "metadata": {},
     "output_type": "display_data"
    }
   ],
   "source": [
    "my_diameter <- diameter(g)\n",
    "my_diameter"
   ]
  },
  {
   "cell_type": "markdown",
   "metadata": {},
   "source": [
    "### Componentes conectados"
   ]
  },
  {
   "cell_type": "code",
   "execution_count": 41,
   "metadata": {},
   "outputs": [],
   "source": [
    "components_g <- components(g)"
   ]
  },
  {
   "cell_type": "code",
   "execution_count": 42,
   "metadata": {},
   "outputs": [
    {
     "data": {
      "text/html": [
       "<style>\n",
       ".list-inline {list-style: none; margin:0; padding: 0}\n",
       ".list-inline>li {display: inline-block}\n",
       ".list-inline>li:not(:last-child)::after {content: \"\\00b7\"; padding: 0 .5ex}\n",
       "</style>\n",
       "<ol class=list-inline><li>1</li><li>1</li><li>1</li><li>1</li><li>1</li><li>1</li><li>1</li><li>1</li><li>1</li><li>1</li><li>1</li><li>1</li><li>1</li><li>1</li><li>1</li><li>1</li><li>1</li><li>1</li><li>1</li><li>1</li><li>1</li><li>1</li><li>1</li><li>1</li><li>1</li><li>1</li><li>1</li><li>1</li><li>1</li><li>1</li><li>1</li><li>1</li><li>1</li><li>1</li></ol>\n"
      ],
      "text/latex": [
       "\\begin{enumerate*}\n",
       "\\item 1\n",
       "\\item 1\n",
       "\\item 1\n",
       "\\item 1\n",
       "\\item 1\n",
       "\\item 1\n",
       "\\item 1\n",
       "\\item 1\n",
       "\\item 1\n",
       "\\item 1\n",
       "\\item 1\n",
       "\\item 1\n",
       "\\item 1\n",
       "\\item 1\n",
       "\\item 1\n",
       "\\item 1\n",
       "\\item 1\n",
       "\\item 1\n",
       "\\item 1\n",
       "\\item 1\n",
       "\\item 1\n",
       "\\item 1\n",
       "\\item 1\n",
       "\\item 1\n",
       "\\item 1\n",
       "\\item 1\n",
       "\\item 1\n",
       "\\item 1\n",
       "\\item 1\n",
       "\\item 1\n",
       "\\item 1\n",
       "\\item 1\n",
       "\\item 1\n",
       "\\item 1\n",
       "\\end{enumerate*}\n"
      ],
      "text/markdown": [
       "1. 1\n",
       "2. 1\n",
       "3. 1\n",
       "4. 1\n",
       "5. 1\n",
       "6. 1\n",
       "7. 1\n",
       "8. 1\n",
       "9. 1\n",
       "10. 1\n",
       "11. 1\n",
       "12. 1\n",
       "13. 1\n",
       "14. 1\n",
       "15. 1\n",
       "16. 1\n",
       "17. 1\n",
       "18. 1\n",
       "19. 1\n",
       "20. 1\n",
       "21. 1\n",
       "22. 1\n",
       "23. 1\n",
       "24. 1\n",
       "25. 1\n",
       "26. 1\n",
       "27. 1\n",
       "28. 1\n",
       "29. 1\n",
       "30. 1\n",
       "31. 1\n",
       "32. 1\n",
       "33. 1\n",
       "34. 1\n",
       "\n",
       "\n"
      ],
      "text/plain": [
       " [1] 1 1 1 1 1 1 1 1 1 1 1 1 1 1 1 1 1 1 1 1 1 1 1 1 1 1 1 1 1 1 1 1 1 1"
      ]
     },
     "metadata": {},
     "output_type": "display_data"
    }
   ],
   "source": [
    "components_g$membership"
   ]
  },
  {
   "cell_type": "code",
   "execution_count": 43,
   "metadata": {},
   "outputs": [
    {
     "data": {
      "text/html": [
       "34"
      ],
      "text/latex": [
       "34"
      ],
      "text/markdown": [
       "34"
      ],
      "text/plain": [
       "[1] 34"
      ]
     },
     "metadata": {},
     "output_type": "display_data"
    }
   ],
   "source": [
    "components_g$csize"
   ]
  },
  {
   "cell_type": "code",
   "execution_count": 44,
   "metadata": {},
   "outputs": [
    {
     "data": {
      "text/html": [
       "1"
      ],
      "text/latex": [
       "1"
      ],
      "text/markdown": [
       "1"
      ],
      "text/plain": [
       "[1] 1"
      ]
     },
     "metadata": {},
     "output_type": "display_data"
    }
   ],
   "source": [
    "components_g$no"
   ]
  },
  {
   "cell_type": "markdown",
   "metadata": {},
   "source": [
    "### Centralidades"
   ]
  },
  {
   "cell_type": "code",
   "execution_count": 45,
   "metadata": {},
   "outputs": [
    {
     "data": {
      "text/plain": [
       "+ 34/34 vertices, from a5b439a:\n",
       " [1]  1  2  3  4  5  6  7  8  9 10 11 12 13 14 15 16 17 18 19 20 21 22 23 24 25\n",
       "[26] 26 27 28 29 30 31 32 33 34"
      ]
     },
     "metadata": {},
     "output_type": "display_data"
    }
   ],
   "source": [
    "V(g) #accedemos a los nodos"
   ]
  },
  {
   "cell_type": "markdown",
   "metadata": {},
   "source": [
    "### Grado"
   ]
  },
  {
   "cell_type": "code",
   "execution_count": 48,
   "metadata": {},
   "outputs": [],
   "source": [
    "g <- set.vertex.attribute(graph = g, name = \"degree\", value = degree(g))\n",
    "#o\n",
    "V(g)$degree_alt <- degree(g)"
   ]
  },
  {
   "cell_type": "code",
   "execution_count": 49,
   "metadata": {},
   "outputs": [
    {
     "data": {
      "text/html": [
       "<table class=\"dataframe\">\n",
       "<caption>A data.frame: 6 × 3</caption>\n",
       "<thead>\n",
       "\t<tr><th></th><th scope=col>id</th><th scope=col>degree</th><th scope=col>degree_alt</th></tr>\n",
       "\t<tr><th></th><th scope=col>&lt;chr&gt;</th><th scope=col>&lt;dbl&gt;</th><th scope=col>&lt;dbl&gt;</th></tr>\n",
       "</thead>\n",
       "<tbody>\n",
       "\t<tr><th scope=row>1</th><td>n0</td><td>16</td><td>16</td></tr>\n",
       "\t<tr><th scope=row>2</th><td>n1</td><td> 9</td><td> 9</td></tr>\n",
       "\t<tr><th scope=row>3</th><td>n2</td><td>10</td><td>10</td></tr>\n",
       "\t<tr><th scope=row>4</th><td>n3</td><td> 6</td><td> 6</td></tr>\n",
       "\t<tr><th scope=row>5</th><td>n4</td><td> 3</td><td> 3</td></tr>\n",
       "\t<tr><th scope=row>6</th><td>n5</td><td> 4</td><td> 4</td></tr>\n",
       "</tbody>\n",
       "</table>\n"
      ],
      "text/latex": [
       "A data.frame: 6 × 3\n",
       "\\begin{tabular}{r|lll}\n",
       "  & id & degree & degree\\_alt\\\\\n",
       "  & <chr> & <dbl> & <dbl>\\\\\n",
       "\\hline\n",
       "\t1 & n0 & 16 & 16\\\\\n",
       "\t2 & n1 &  9 &  9\\\\\n",
       "\t3 & n2 & 10 & 10\\\\\n",
       "\t4 & n3 &  6 &  6\\\\\n",
       "\t5 & n4 &  3 &  3\\\\\n",
       "\t6 & n5 &  4 &  4\\\\\n",
       "\\end{tabular}\n"
      ],
      "text/markdown": [
       "\n",
       "A data.frame: 6 × 3\n",
       "\n",
       "| <!--/--> | id &lt;chr&gt; | degree &lt;dbl&gt; | degree_alt &lt;dbl&gt; |\n",
       "|---|---|---|---|\n",
       "| 1 | n0 | 16 | 16 |\n",
       "| 2 | n1 |  9 |  9 |\n",
       "| 3 | n2 | 10 | 10 |\n",
       "| 4 | n3 |  6 |  6 |\n",
       "| 5 | n4 |  3 |  3 |\n",
       "| 6 | n5 |  4 |  4 |\n",
       "\n"
      ],
      "text/plain": [
       "  id degree degree_alt\n",
       "1 n0 16     16        \n",
       "2 n1  9      9        \n",
       "3 n2 10     10        \n",
       "4 n3  6      6        \n",
       "5 n4  3      3        \n",
       "6 n5  4      4        "
      ]
     },
     "metadata": {},
     "output_type": "display_data"
    }
   ],
   "source": [
    "head(get.data.frame(g, what = \"vertices\"))"
   ]
  },
  {
   "cell_type": "markdown",
   "metadata": {},
   "source": [
    "### Intermediación"
   ]
  },
  {
   "cell_type": "code",
   "execution_count": 50,
   "metadata": {},
   "outputs": [],
   "source": [
    "V(g)$betweenness_centrality <- betweenness(g)"
   ]
  },
  {
   "cell_type": "code",
   "execution_count": 51,
   "metadata": {},
   "outputs": [
    {
     "data": {
      "text/html": [
       "<table class=\"dataframe\">\n",
       "<caption>A data.frame: 6 × 4</caption>\n",
       "<thead>\n",
       "\t<tr><th></th><th scope=col>id</th><th scope=col>degree</th><th scope=col>degree_alt</th><th scope=col>betweenness_centrality</th></tr>\n",
       "\t<tr><th></th><th scope=col>&lt;chr&gt;</th><th scope=col>&lt;dbl&gt;</th><th scope=col>&lt;dbl&gt;</th><th scope=col>&lt;dbl&gt;</th></tr>\n",
       "</thead>\n",
       "<tbody>\n",
       "\t<tr><th scope=row>1</th><td>n0</td><td>16</td><td>16</td><td>231.0714286</td></tr>\n",
       "\t<tr><th scope=row>2</th><td>n1</td><td> 9</td><td> 9</td><td> 28.4785714</td></tr>\n",
       "\t<tr><th scope=row>3</th><td>n2</td><td>10</td><td>10</td><td> 75.8507937</td></tr>\n",
       "\t<tr><th scope=row>4</th><td>n3</td><td> 6</td><td> 6</td><td>  6.2880952</td></tr>\n",
       "\t<tr><th scope=row>5</th><td>n4</td><td> 3</td><td> 3</td><td>  0.3333333</td></tr>\n",
       "\t<tr><th scope=row>6</th><td>n5</td><td> 4</td><td> 4</td><td> 15.8333333</td></tr>\n",
       "</tbody>\n",
       "</table>\n"
      ],
      "text/latex": [
       "A data.frame: 6 × 4\n",
       "\\begin{tabular}{r|llll}\n",
       "  & id & degree & degree\\_alt & betweenness\\_centrality\\\\\n",
       "  & <chr> & <dbl> & <dbl> & <dbl>\\\\\n",
       "\\hline\n",
       "\t1 & n0 & 16 & 16 & 231.0714286\\\\\n",
       "\t2 & n1 &  9 &  9 &  28.4785714\\\\\n",
       "\t3 & n2 & 10 & 10 &  75.8507937\\\\\n",
       "\t4 & n3 &  6 &  6 &   6.2880952\\\\\n",
       "\t5 & n4 &  3 &  3 &   0.3333333\\\\\n",
       "\t6 & n5 &  4 &  4 &  15.8333333\\\\\n",
       "\\end{tabular}\n"
      ],
      "text/markdown": [
       "\n",
       "A data.frame: 6 × 4\n",
       "\n",
       "| <!--/--> | id &lt;chr&gt; | degree &lt;dbl&gt; | degree_alt &lt;dbl&gt; | betweenness_centrality &lt;dbl&gt; |\n",
       "|---|---|---|---|---|\n",
       "| 1 | n0 | 16 | 16 | 231.0714286 |\n",
       "| 2 | n1 |  9 |  9 |  28.4785714 |\n",
       "| 3 | n2 | 10 | 10 |  75.8507937 |\n",
       "| 4 | n3 |  6 |  6 |   6.2880952 |\n",
       "| 5 | n4 |  3 |  3 |   0.3333333 |\n",
       "| 6 | n5 |  4 |  4 |  15.8333333 |\n",
       "\n"
      ],
      "text/plain": [
       "  id degree degree_alt betweenness_centrality\n",
       "1 n0 16     16         231.0714286           \n",
       "2 n1  9      9          28.4785714           \n",
       "3 n2 10     10          75.8507937           \n",
       "4 n3  6      6           6.2880952           \n",
       "5 n4  3      3           0.3333333           \n",
       "6 n5  4      4          15.8333333           "
      ]
     },
     "metadata": {},
     "output_type": "display_data"
    }
   ],
   "source": [
    "head(get.data.frame(g, what = \"vertices\"))"
   ]
  },
  {
   "cell_type": "code",
   "execution_count": 52,
   "metadata": {},
   "outputs": [
    {
     "data": {
      "text/html": [
       "<table class=\"dataframe\">\n",
       "<caption>A data.frame: 6 × 3</caption>\n",
       "<thead>\n",
       "\t<tr><th></th><th scope=col>from</th><th scope=col>to</th><th scope=col>edge_betweenness</th></tr>\n",
       "\t<tr><th></th><th scope=col>&lt;dbl&gt;</th><th scope=col>&lt;dbl&gt;</th><th scope=col>&lt;dbl&gt;</th></tr>\n",
       "</thead>\n",
       "<tbody>\n",
       "\t<tr><th scope=row>1</th><td>1</td><td>2</td><td>14.16667</td></tr>\n",
       "\t<tr><th scope=row>2</th><td>1</td><td>3</td><td>43.63889</td></tr>\n",
       "\t<tr><th scope=row>3</th><td>1</td><td>4</td><td>11.50000</td></tr>\n",
       "\t<tr><th scope=row>4</th><td>1</td><td>5</td><td>29.33333</td></tr>\n",
       "\t<tr><th scope=row>5</th><td>1</td><td>6</td><td>43.83333</td></tr>\n",
       "\t<tr><th scope=row>6</th><td>1</td><td>7</td><td>43.83333</td></tr>\n",
       "</tbody>\n",
       "</table>\n"
      ],
      "text/latex": [
       "A data.frame: 6 × 3\n",
       "\\begin{tabular}{r|lll}\n",
       "  & from & to & edge\\_betweenness\\\\\n",
       "  & <dbl> & <dbl> & <dbl>\\\\\n",
       "\\hline\n",
       "\t1 & 1 & 2 & 14.16667\\\\\n",
       "\t2 & 1 & 3 & 43.63889\\\\\n",
       "\t3 & 1 & 4 & 11.50000\\\\\n",
       "\t4 & 1 & 5 & 29.33333\\\\\n",
       "\t5 & 1 & 6 & 43.83333\\\\\n",
       "\t6 & 1 & 7 & 43.83333\\\\\n",
       "\\end{tabular}\n"
      ],
      "text/markdown": [
       "\n",
       "A data.frame: 6 × 3\n",
       "\n",
       "| <!--/--> | from &lt;dbl&gt; | to &lt;dbl&gt; | edge_betweenness &lt;dbl&gt; |\n",
       "|---|---|---|---|\n",
       "| 1 | 1 | 2 | 14.16667 |\n",
       "| 2 | 1 | 3 | 43.63889 |\n",
       "| 3 | 1 | 4 | 11.50000 |\n",
       "| 4 | 1 | 5 | 29.33333 |\n",
       "| 5 | 1 | 6 | 43.83333 |\n",
       "| 6 | 1 | 7 | 43.83333 |\n",
       "\n"
      ],
      "text/plain": [
       "  from to edge_betweenness\n",
       "1 1    2  14.16667        \n",
       "2 1    3  43.63889        \n",
       "3 1    4  11.50000        \n",
       "4 1    5  29.33333        \n",
       "5 1    6  43.83333        \n",
       "6 1    7  43.83333        "
      ]
     },
     "metadata": {},
     "output_type": "display_data"
    }
   ],
   "source": [
    "E(g)$edge_betweenness <- edge.betweenness(g)\n",
    "head(get.data.frame(g, what = \"edges\"))"
   ]
  },
  {
   "cell_type": "markdown",
   "metadata": {},
   "source": [
    "### Coeficiente de agrupamiento / Transitividad"
   ]
  },
  {
   "cell_type": "code",
   "execution_count": 53,
   "metadata": {},
   "outputs": [
    {
     "data": {
      "text/html": [
       "<table class=\"dataframe\">\n",
       "<caption>A data.frame: 6 × 5</caption>\n",
       "<thead>\n",
       "\t<tr><th></th><th scope=col>id</th><th scope=col>degree</th><th scope=col>degree_alt</th><th scope=col>betweenness_centrality</th><th scope=col>cc</th></tr>\n",
       "\t<tr><th></th><th scope=col>&lt;chr&gt;</th><th scope=col>&lt;dbl&gt;</th><th scope=col>&lt;dbl&gt;</th><th scope=col>&lt;dbl&gt;</th><th scope=col>&lt;dbl&gt;</th></tr>\n",
       "</thead>\n",
       "<tbody>\n",
       "\t<tr><th scope=row>1</th><td>n0</td><td>16</td><td>16</td><td>231.0714286</td><td>0.1500000</td></tr>\n",
       "\t<tr><th scope=row>2</th><td>n1</td><td> 9</td><td> 9</td><td> 28.4785714</td><td>0.3333333</td></tr>\n",
       "\t<tr><th scope=row>3</th><td>n2</td><td>10</td><td>10</td><td> 75.8507937</td><td>0.2444444</td></tr>\n",
       "\t<tr><th scope=row>4</th><td>n3</td><td> 6</td><td> 6</td><td>  6.2880952</td><td>0.6666667</td></tr>\n",
       "\t<tr><th scope=row>5</th><td>n4</td><td> 3</td><td> 3</td><td>  0.3333333</td><td>0.6666667</td></tr>\n",
       "\t<tr><th scope=row>6</th><td>n5</td><td> 4</td><td> 4</td><td> 15.8333333</td><td>0.5000000</td></tr>\n",
       "</tbody>\n",
       "</table>\n"
      ],
      "text/latex": [
       "A data.frame: 6 × 5\n",
       "\\begin{tabular}{r|lllll}\n",
       "  & id & degree & degree\\_alt & betweenness\\_centrality & cc\\\\\n",
       "  & <chr> & <dbl> & <dbl> & <dbl> & <dbl>\\\\\n",
       "\\hline\n",
       "\t1 & n0 & 16 & 16 & 231.0714286 & 0.1500000\\\\\n",
       "\t2 & n1 &  9 &  9 &  28.4785714 & 0.3333333\\\\\n",
       "\t3 & n2 & 10 & 10 &  75.8507937 & 0.2444444\\\\\n",
       "\t4 & n3 &  6 &  6 &   6.2880952 & 0.6666667\\\\\n",
       "\t5 & n4 &  3 &  3 &   0.3333333 & 0.6666667\\\\\n",
       "\t6 & n5 &  4 &  4 &  15.8333333 & 0.5000000\\\\\n",
       "\\end{tabular}\n"
      ],
      "text/markdown": [
       "\n",
       "A data.frame: 6 × 5\n",
       "\n",
       "| <!--/--> | id &lt;chr&gt; | degree &lt;dbl&gt; | degree_alt &lt;dbl&gt; | betweenness_centrality &lt;dbl&gt; | cc &lt;dbl&gt; |\n",
       "|---|---|---|---|---|---|\n",
       "| 1 | n0 | 16 | 16 | 231.0714286 | 0.1500000 |\n",
       "| 2 | n1 |  9 |  9 |  28.4785714 | 0.3333333 |\n",
       "| 3 | n2 | 10 | 10 |  75.8507937 | 0.2444444 |\n",
       "| 4 | n3 |  6 |  6 |   6.2880952 | 0.6666667 |\n",
       "| 5 | n4 |  3 |  3 |   0.3333333 | 0.6666667 |\n",
       "| 6 | n5 |  4 |  4 |  15.8333333 | 0.5000000 |\n",
       "\n"
      ],
      "text/plain": [
       "  id degree degree_alt betweenness_centrality cc       \n",
       "1 n0 16     16         231.0714286            0.1500000\n",
       "2 n1  9      9          28.4785714            0.3333333\n",
       "3 n2 10     10          75.8507937            0.2444444\n",
       "4 n3  6      6           6.2880952            0.6666667\n",
       "5 n4  3      3           0.3333333            0.6666667\n",
       "6 n5  4      4          15.8333333            0.5000000"
      ]
     },
     "metadata": {},
     "output_type": "display_data"
    }
   ],
   "source": [
    "V(g)$cc   <- transitivity(graph = g, type = \"local\", isolates = \"zero\")\n",
    "cc_global <- transitivity(graph = g, type = \"global\")\n",
    "head(get.data.frame(g, what = \"vertices\"))"
   ]
  },
  {
   "cell_type": "code",
   "execution_count": null,
   "metadata": {},
   "outputs": [],
   "source": []
  }
 ],
 "metadata": {
  "kernelspec": {
   "display_name": "R",
   "language": "R",
   "name": "ir"
  },
  "language_info": {
   "codemirror_mode": "r",
   "file_extension": ".r",
   "mimetype": "text/x-r-source",
   "name": "R",
   "pygments_lexer": "r",
   "version": "4.0.4"
  }
 },
 "nbformat": 4,
 "nbformat_minor": 4
}
